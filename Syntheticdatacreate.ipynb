{
 "cells": [
  {
   "cell_type": "code",
   "execution_count": 4,
   "id": "715cf42f-1807-480f-ad3f-6ba2727a2168",
   "metadata": {},
   "outputs": [
    {
     "name": "stdout",
     "output_type": "stream",
     "text": [
      "     base_name    variation\n",
      "0  customer_id       custid\n",
      "1  customer_id   CustomerID\n",
      "2  customer_id      cust_id\n",
      "3  customer_id  customer-id\n",
      "4  customer_id       CustID\n"
     ]
    }
   ],
   "source": [
    "\n",
    "import pandas as pd\n",
    "\n",
    "# Load the CSV file\n",
    "df = pd.read_csv(r\"C:\\Users\\HP\\Desktop\\DATA_ANALYTICS\\column_variations2.csv\")\n",
    "\n",
    "# Display the first few rows\n",
    "print(df.head())\n"
   ]
  },
  {
   "cell_type": "code",
   "execution_count": 5,
   "id": "c27c98b1-b652-452a-8e57-90ec1bf350c7",
   "metadata": {},
   "outputs": [
    {
     "name": "stdout",
     "output_type": "stream",
     "text": [
      "base_name\n",
      "email           45\n",
      "address         42\n",
      "city            42\n",
      "zip_code        41\n",
      "customer_id     40\n",
      "phone_number    40\n",
      "state           39\n",
      "country         39\n",
      "first_name      36\n",
      "last_name       36\n",
      "Name: count, dtype: int64\n"
     ]
    }
   ],
   "source": [
    "print(df[\"base_name\"].value_counts())"
   ]
  },
  {
   "cell_type": "code",
   "execution_count": 3,
   "id": "fb548d0b-6d6e-4dcd-9d17-76946acaf518",
   "metadata": {},
   "outputs": [
    {
     "name": "stdout",
     "output_type": "stream",
     "text": [
      "CSV file 'column_variations.csv' has been created.\n"
     ]
    }
   ],
   "source": [
    "import pandas as pd\n",
    "\n",
    "# Step 1: Manually Define Column Names and Variations\n",
    "# Each key is a base column name, and the value is a list of variations.\n",
    "column_variations = {\n",
    "    \"customer_id\": [\"custid\", \"CustomerID\", \"cust_id\", \"customer-id\", \"CustID\", \"customer_id\", \"custID\", \"Customer_Id\", \"customerID\", \"cust_id_\"],\n",
    "    \"first_name\": [\"firstName\", \"fname\", \"firstname\", \"First_Name\", \"f_name\", \"first name\", \"FirstName\", \"FName\", \"first_Name\", \"firstname_\"],\n",
    "    \"last_name\": [\"lastName\", \"lname\", \"lastname\", \"Last_Name\", \"l_name\", \"last name\", \"LastName\", \"LName\", \"last_Name\", \"lastname_\"],\n",
    "    \"email\": [\"email_addr\", \"email_address\", \"Email\", \"e-mail\", \"emailAddress\", \"email_id\", \"emailID\", \"email-id\", \"email_\", \"email address\"],\n",
    "    \"phone_number\": [\"phone\", \"PhoneNum\", \"phone_no\", \"phone-number\", \"Phone_Number\", \"phonenumber\", \"phone_num\", \"PhoneNo\", \"phoneNumber\", \"phone number\"],\n",
    "    \"address\": [\"addr\", \"Address\", \"location\", \"street_address\", \"street-address\", \"StreetAddress\", \"addr_\", \"address_\", \"AddressLine\", \"address line\"],\n",
    "    \"city\": [\"CityName\", \"city_name\", \"town\", \"City\", \"city_\", \"city name\", \"City_Name\", \"cityName\", \"town_name\", \"cityname\"],\n",
    "    \"state\": [\"StateName\", \"state_name\", \"province\", \"State\", \"state_\", \"state name\", \"State_Name\", \"stateName\", \"province_name\", \"statename\"],\n",
    "    \"zip_code\": [\"zip\", \"ZipCode\", \"postal_code\", \"postal-code\", \"PostalCode\", \"zipcode\", \"zip_code_\", \"Zip\", \"postalcode\", \"zip code\"],\n",
    "    \"country\": [\"CountryName\", \"country_name\", \"nation\", \"Country\", \"country_\", \"country name\", \"Country_Name\", \"countryName\", \"nation_name\", \"countryname\"]\n",
    "}\n",
    "\n",
    "# Extend the variations as provided in your dataset\n",
    "column_variations[\"customer_id\"].extend([\"custi\", \"custm_id\", \"custo_id\", \"custome_id\", \"customr_id\"])\n",
    "column_variations[\"first_name\"].extend([\"frstname\", \"firsname\", \"firtnam\", \"firtname\", \"fistname\"])\n",
    "column_variations[\"last_name\"].extend([\"lasname\", \"lstname\", \"latsname\", \"lastnme\", \"latname\"])\n",
    "column_variations[\"email\"].extend([\"emial\", \"eail\", \"emaill\", \"emai\", \"e-mailaddress\"])\n",
    "column_variations[\"phone_number\"].extend([\"phne\", \"phoneno\", \"phonenumber_\", \"phne_number\", \"fone_number\"])\n",
    "column_variations[\"customer_id\"].extend([\"cust\", \"cid\", \"cust_\", \"c_id\", \"custid_\"])\n",
    "column_variations[\"first_name\"].extend([\"fn\", \"fname_\", \"f_n\", \"f_name_\", \"firstname_\"])\n",
    "column_variations[\"last_name\"].extend([\"ln\", \"lname_\", \"l_n\", \"l_name_\", \"lastname_\"])\n",
    "column_variations[\"email\"].extend([\"em\", \"e_addr\", \"e_mail\", \"email_\", \"e_address\"])\n",
    "column_variations[\"phone_number\"].extend([\"pn\", \"ph_num\", \"phone_\", \"p_no\", \"ph_no\"])\n",
    "column_variations[\"address\"].extend([\"addrss\", \"adres\", \"addres\", \"adress\", \"addr_\"])\n",
    "column_variations[\"city\"].extend([\"cty\", \"sity\", \"citie\", \"citi\", \"city_\"])\n",
    "column_variations[\"state\"].extend([\"stte\", \"ste\", \"stat\", \"stae\", \"state_\"])\n",
    "column_variations[\"zip_code\"].extend([\"zcode\", \"zipcod\", \"zp_code\", \"zipcode_\", \"zip_\"])\n",
    "column_variations[\"country\"].extend([\"cntry\", \"countrey\", \"contry\", \"countrie\", \"country_\"])\n",
    "column_variations[\"customer_id\"].extend([\"customers_id\", \"customer_ids\", \"cust_ids\", \"cust_id_list\"])\n",
    "column_variations[\"phone_number\"].extend([\"phone_numbers\", \"phones_number\", \"phone_num_list\", \"phone_nos\"])\n",
    "column_variations[\"email\"].extend([\"emails\", \"email_list\", \"email_addresses\", \"email_addrs\"])\n",
    "column_variations[\"customer_id\"].extend([\"cust-id\", \"cust.id\", \"cust_id_\", \"cust-id_\", \"cust.id_\"])\n",
    "column_variations[\"first_name\"].extend([\"first-name\", \"first.name\", \"first_name_\", \"first-name_\", \"first.name_\"])\n",
    "column_variations[\"last_name\"].extend([\"last-name\", \"last.name\", \"last_name_\", \"last-name_\", \"last.name_\"])\n",
    "column_variations[\"email\"].extend([\"email-address\", \"email.address\", \"email_address_\", \"email-address_\", \"email.address_\"])\n",
    "column_variations[\"phone_number\"].extend([\"phone-number\", \"phone.number\", \"phone_number_\", \"phone-number_\", \"phone.number_\"])\n",
    "column_variations[\"customer_id\"].extend([\"user_customer_id\", \"client_cust_id\", \"cust_id_info\", \"cust_id_data\"])\n",
    "column_variations[\"first_name\"].extend([\"user_first_name\", \"client_fname\", \"fname_info\", \"fname_data\"])\n",
    "column_variations[\"last_name\"].extend([\"user_last_name\", \"client_lname\", \"lname_info\", \"lname_data\"])\n",
    "column_variations[\"email\"].extend([\"user_email\", \"client_email\", \"email_info\", \"email_data\"])\n",
    "column_variations[\"phone_number\"].extend([\"user_phone_number\", \"client_phone\", \"phone_info\", \"phone_data\"])\n",
    "column_variations[\"email\"].extend([\"email-address\", \"email.address\", \"email_address_\", \"email-address_\", \"email.address_\"])\n",
    "column_variations[\"customer_id\"].extend([\"CUSTOMER_ID\", \"CustomerId\", \"customerID\", \"Customer_Id\"])\n",
    "column_variations[\"first_name\"].extend([\"FIRST_NAME\", \"FirstName\", \"firstName\", \"First_name\"])\n",
    "column_variations[\"last_name\"].extend([\"LAST_NAME\", \"LastName\", \"lastName\", \"Last_name\"])\n",
    "column_variations[\"email\"].extend([\"EMAIL\", \"EmailAddr\", \"emailAddress\", \"Email_Address\"])\n",
    "column_variations[\"phone_number\"].extend([\"PHONE_NUMBER\", \"PhoneNumber\", \"phoneNumber\", \"Phone_Number\"])\n",
    "column_variations[\"customer_id\"].extend([\"customer_id_field\", \"cust_id_value\", \"customer_id_data\"])\n",
    "column_variations[\"first_name\"].extend([\"first_name_field\", \"fname_value\", \"first_name_data\"])\n",
    "column_variations[\"last_name\"].extend([\"last_name_field\", \"lname_value\", \"last_name_data\"])\n",
    "column_variations[\"email\"].extend([\"email_field\", \"email_value\", \"email_data\"])\n",
    "column_variations[\"phone_number\"].extend([\"phone_number_field\", \"phone_value\", \"phone_data\"])\n",
    "column_variations[\"address\"].extend([\n",
    "    \"addr\", \"addres\", \"adress\", \"Addr\", \"ADDRESS\", \"Address_\", \"address_line\",\n",
    "    \"street_address\", \"street_addr\", \"st_addr\", \"addr_line\", \"addr_line1\",\n",
    "    \"addr_line_1\", \"addressline\", \"address_line1\", \"address-line\", \"addressLine\",\n",
    "    \"addrss\", \"adres\", \"addrs\", \"addr_\", \"address_info\", \"address_data\",\n",
    "    \"user_address\", \"client_address\", \"address_field\", \"address_value\"\n",
    "])\n",
    "column_variations[\"city\"].extend([\n",
    "    \"City\", \"CITY\", \"city_\", \"City_\", \"cityname\", \"city_name\", \"cityName\",\n",
    "    \"CityName\", \"town\", \"Town\", \"TOWN\", \"city_town\", \"city_township\",\n",
    "    \"city_location\", \"city_loc\", \"city_loc_\", \"city_area\", \"city_region\",\n",
    "    \"city_zone\", \"city_district\", \"city_division\", \"city_info\", \"city_data\",\n",
    "    \"user_city\", \"client_city\", \"city_field\", \"city_value\"\n",
    "])\n",
    "column_variations[\"state\"].extend([\n",
    "    \"State\", \"STATE\", \"state_\", \"State_\", \"statename\", \"state_name\", \"stateName\",\n",
    "    \"StateName\", \"province\", \"Province\", \"PROVINCE\", \"state_province\",\n",
    "    \"state_prov\", \"state_prov_\", \"state_region\", \"state_area\", \"state_zone\",\n",
    "    \"state_division\", \"state_info\", \"state_data\", \"user_state\", \"client_state\",\n",
    "    \"state_field\", \"state_value\"\n",
    "])\n",
    "column_variations[\"zip_code\"].extend([\n",
    "    \"ZipCode\", \"ZIPCODE\", \"zip_code_\", \"Zip_Code\", \"zipcode\", \"zipCode\",\n",
    "    \"zip_code-\", \"zip-code\", \"zip code\", \"postal_code\", \"PostalCode\",\n",
    "    \"postal_code_\", \"Postal_Code\", \"postalcode\", \"post_code\", \"PostCode\",\n",
    "    \"post_code_\", \"Post_Code\", \"zip_\", \"zip__\", \"zip_info\", \"zip_data\",\n",
    "    \"user_zip\", \"client_zip\", \"zip_field\", \"zip_value\"\n",
    "])\n",
    "column_variations[\"country\"].extend([\n",
    "    \"Country\", \"COUNTRY\", \"country_\", \"Country_\", \"countryname\", \"country_name\",\n",
    "    \"countryName\", \"CountryName\", \"nation\", \"Nation\", \"NATION\", \"country_nation\",\n",
    "    \"country_nat\", \"country_nat_\", \"country_region\", \"country_area\",\n",
    "    \"country_zone\", \"country_division\", \"country_info\", \"country_data\",\n",
    "    \"user_country\", \"client_country\", \"country_field\", \"country_value\"\n",
    "])\n",
    "\n",
    "# Convert the dictionary into a DataFrame\n",
    "data = []\n",
    "for base_name, variations in column_variations.items():\n",
    "    for variation in variations:\n",
    "        data.append({\"base_name\": base_name, \"variation\": variation})\n",
    "\n",
    "df = pd.DataFrame(data)\n",
    "\n",
    "# Save the DataFrame to a CSV file\n",
    "df.to_csv(\"column_variations2.csv\", index=False)\n",
    "\n",
    "print(\"CSV file 'column_variations.csv' has been created.\")"
   ]
  },
  {
   "cell_type": "code",
   "execution_count": null,
   "id": "c87aa8ed-bd24-432d-bec9-1c840343b464",
   "metadata": {},
   "outputs": [],
   "source": []
  }
 ],
 "metadata": {
  "kernelspec": {
   "display_name": "Python 3 (ipykernel)",
   "language": "python",
   "name": "python3"
  },
  "language_info": {
   "codemirror_mode": {
    "name": "ipython",
    "version": 3
   },
   "file_extension": ".py",
   "mimetype": "text/x-python",
   "name": "python",
   "nbconvert_exporter": "python",
   "pygments_lexer": "ipython3",
   "version": "3.11.4"
  }
 },
 "nbformat": 4,
 "nbformat_minor": 5
}
